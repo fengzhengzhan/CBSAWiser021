{
 "cells": [
  {
   "cell_type": "markdown",
   "metadata": {},
   "source": [
    "# Case study - Wine quality"
   ]
  },
  {
   "cell_type": "markdown",
   "metadata": {},
   "source": [
    "### Preloading Modules and Functions"
   ]
  },
  {
   "cell_type": "code",
   "execution_count": 1,
   "metadata": {},
   "outputs": [],
   "source": [
    "# Pandas is for using data structures\n",
    "import pandas as pd\n",
    "# numpy is for numerical computing of array and matrix\n",
    "import numpy as np\n",
    "# Matplotlib is a plotting package\n",
    "import matplotlib.pyplot as plt\n",
    "# matplotlib Showing the plot right after the current code  \n",
    "%matplotlib inline\n",
    "import warnings\n",
    "warnings.filterwarnings('ignore')\n",
    "pd.set_option('display.max_colwidth', -1)"
   ]
  },
  {
   "cell_type": "code",
   "execution_count": 2,
   "metadata": {},
   "outputs": [],
   "source": [
    "# Notice that there is no package in doing best subset/forward selection in Python.\n",
    "# We developed a module to handle such selection methods. The module file is named as 'model_selection.py'. \n",
    "# You should put this file in a folder with name 'model_selection' such that the folder should be added to the same path of this Jupyter Notebook file.\n",
    "# Then, execute the following to import the module.\n",
    "from model_selection import model_selection as MS"
   ]
  },
  {
   "cell_type": "markdown",
   "metadata": {},
   "source": [
    "### Loading data"
   ]
  },
  {
   "cell_type": "code",
   "execution_count": 3,
   "metadata": {},
   "outputs": [
    {
     "data": {
      "text/plain": [
       "(1599, 12)"
      ]
     },
     "execution_count": 3,
     "metadata": {},
     "output_type": "execute_result"
    }
   ],
   "source": [
    "red_wine = pd.read_csv('wine.csv',sep=\",\") \n",
    "N_red = red_wine.shape\n",
    "N_red"
   ]
  },
  {
   "cell_type": "code",
   "execution_count": 4,
   "metadata": {},
   "outputs": [
    {
     "data": {
      "text/html": [
       "<div>\n",
       "<style scoped>\n",
       "    .dataframe tbody tr th:only-of-type {\n",
       "        vertical-align: middle;\n",
       "    }\n",
       "\n",
       "    .dataframe tbody tr th {\n",
       "        vertical-align: top;\n",
       "    }\n",
       "\n",
       "    .dataframe thead th {\n",
       "        text-align: right;\n",
       "    }\n",
       "</style>\n",
       "<table border=\"1\" class=\"dataframe\">\n",
       "  <thead>\n",
       "    <tr style=\"text-align: right;\">\n",
       "      <th></th>\n",
       "      <th>fixed_acidity</th>\n",
       "      <th>volatile_acidity</th>\n",
       "      <th>citric_acid</th>\n",
       "      <th>residual_sugar</th>\n",
       "      <th>chlorides</th>\n",
       "      <th>free_sulfur_dioxide</th>\n",
       "      <th>total_sulfur_dioxide</th>\n",
       "      <th>density</th>\n",
       "      <th>pH</th>\n",
       "      <th>sulphates</th>\n",
       "      <th>alcohol</th>\n",
       "      <th>quality</th>\n",
       "    </tr>\n",
       "  </thead>\n",
       "  <tbody>\n",
       "    <tr>\n",
       "      <td>0</td>\n",
       "      <td>7.4</td>\n",
       "      <td>0.70</td>\n",
       "      <td>0.00</td>\n",
       "      <td>1.9</td>\n",
       "      <td>0.076</td>\n",
       "      <td>11.0</td>\n",
       "      <td>34.0</td>\n",
       "      <td>0.9978</td>\n",
       "      <td>3.51</td>\n",
       "      <td>0.56</td>\n",
       "      <td>9.4</td>\n",
       "      <td>5</td>\n",
       "    </tr>\n",
       "    <tr>\n",
       "      <td>1</td>\n",
       "      <td>7.8</td>\n",
       "      <td>0.88</td>\n",
       "      <td>0.00</td>\n",
       "      <td>2.6</td>\n",
       "      <td>0.098</td>\n",
       "      <td>25.0</td>\n",
       "      <td>67.0</td>\n",
       "      <td>0.9968</td>\n",
       "      <td>3.20</td>\n",
       "      <td>0.68</td>\n",
       "      <td>9.8</td>\n",
       "      <td>5</td>\n",
       "    </tr>\n",
       "    <tr>\n",
       "      <td>2</td>\n",
       "      <td>7.8</td>\n",
       "      <td>0.76</td>\n",
       "      <td>0.04</td>\n",
       "      <td>2.3</td>\n",
       "      <td>0.092</td>\n",
       "      <td>15.0</td>\n",
       "      <td>54.0</td>\n",
       "      <td>0.9970</td>\n",
       "      <td>3.26</td>\n",
       "      <td>0.65</td>\n",
       "      <td>9.8</td>\n",
       "      <td>5</td>\n",
       "    </tr>\n",
       "    <tr>\n",
       "      <td>3</td>\n",
       "      <td>11.2</td>\n",
       "      <td>0.28</td>\n",
       "      <td>0.56</td>\n",
       "      <td>1.9</td>\n",
       "      <td>0.075</td>\n",
       "      <td>17.0</td>\n",
       "      <td>60.0</td>\n",
       "      <td>0.9980</td>\n",
       "      <td>3.16</td>\n",
       "      <td>0.58</td>\n",
       "      <td>9.8</td>\n",
       "      <td>6</td>\n",
       "    </tr>\n",
       "    <tr>\n",
       "      <td>4</td>\n",
       "      <td>7.4</td>\n",
       "      <td>0.70</td>\n",
       "      <td>0.00</td>\n",
       "      <td>1.9</td>\n",
       "      <td>0.076</td>\n",
       "      <td>11.0</td>\n",
       "      <td>34.0</td>\n",
       "      <td>0.9978</td>\n",
       "      <td>3.51</td>\n",
       "      <td>0.56</td>\n",
       "      <td>9.4</td>\n",
       "      <td>5</td>\n",
       "    </tr>\n",
       "  </tbody>\n",
       "</table>\n",
       "</div>"
      ],
      "text/plain": [
       "   fixed_acidity  volatile_acidity  citric_acid  residual_sugar  chlorides  \\\n",
       "0  7.4            0.70              0.00         1.9             0.076       \n",
       "1  7.8            0.88              0.00         2.6             0.098       \n",
       "2  7.8            0.76              0.04         2.3             0.092       \n",
       "3  11.2           0.28              0.56         1.9             0.075       \n",
       "4  7.4            0.70              0.00         1.9             0.076       \n",
       "\n",
       "   free_sulfur_dioxide  total_sulfur_dioxide  density    pH  sulphates  \\\n",
       "0  11.0                 34.0                  0.9978   3.51  0.56        \n",
       "1  25.0                 67.0                  0.9968   3.20  0.68        \n",
       "2  15.0                 54.0                  0.9970   3.26  0.65        \n",
       "3  17.0                 60.0                  0.9980   3.16  0.58        \n",
       "4  11.0                 34.0                  0.9978   3.51  0.56        \n",
       "\n",
       "   alcohol  quality  \n",
       "0  9.4      5        \n",
       "1  9.8      5        \n",
       "2  9.8      5        \n",
       "3  9.8      6        \n",
       "4  9.4      5        "
      ]
     },
     "execution_count": 4,
     "metadata": {},
     "output_type": "execute_result"
    }
   ],
   "source": [
    "red_wine.head()"
   ]
  },
  {
   "cell_type": "code",
   "execution_count": 5,
   "metadata": {},
   "outputs": [
    {
     "data": {
      "text/html": [
       "<div>\n",
       "<style scoped>\n",
       "    .dataframe tbody tr th:only-of-type {\n",
       "        vertical-align: middle;\n",
       "    }\n",
       "\n",
       "    .dataframe tbody tr th {\n",
       "        vertical-align: top;\n",
       "    }\n",
       "\n",
       "    .dataframe thead th {\n",
       "        text-align: right;\n",
       "    }\n",
       "</style>\n",
       "<table border=\"1\" class=\"dataframe\">\n",
       "  <thead>\n",
       "    <tr style=\"text-align: right;\">\n",
       "      <th></th>\n",
       "      <th>fixed_acidity</th>\n",
       "      <th>volatile_acidity</th>\n",
       "      <th>citric_acid</th>\n",
       "      <th>residual_sugar</th>\n",
       "      <th>chlorides</th>\n",
       "      <th>free_sulfur_dioxide</th>\n",
       "    </tr>\n",
       "  </thead>\n",
       "  <tbody>\n",
       "    <tr>\n",
       "      <td>count</td>\n",
       "      <td>1599.000000</td>\n",
       "      <td>1599.000000</td>\n",
       "      <td>1599.000000</td>\n",
       "      <td>1599.000000</td>\n",
       "      <td>1599.000000</td>\n",
       "      <td>1599.000000</td>\n",
       "    </tr>\n",
       "    <tr>\n",
       "      <td>mean</td>\n",
       "      <td>8.319637</td>\n",
       "      <td>0.527821</td>\n",
       "      <td>0.270976</td>\n",
       "      <td>2.538806</td>\n",
       "      <td>0.087467</td>\n",
       "      <td>15.874922</td>\n",
       "    </tr>\n",
       "    <tr>\n",
       "      <td>std</td>\n",
       "      <td>1.741096</td>\n",
       "      <td>0.179060</td>\n",
       "      <td>0.194801</td>\n",
       "      <td>1.409928</td>\n",
       "      <td>0.047065</td>\n",
       "      <td>10.460157</td>\n",
       "    </tr>\n",
       "    <tr>\n",
       "      <td>min</td>\n",
       "      <td>4.600000</td>\n",
       "      <td>0.120000</td>\n",
       "      <td>0.000000</td>\n",
       "      <td>0.900000</td>\n",
       "      <td>0.012000</td>\n",
       "      <td>1.000000</td>\n",
       "    </tr>\n",
       "    <tr>\n",
       "      <td>25%</td>\n",
       "      <td>7.100000</td>\n",
       "      <td>0.390000</td>\n",
       "      <td>0.090000</td>\n",
       "      <td>1.900000</td>\n",
       "      <td>0.070000</td>\n",
       "      <td>7.000000</td>\n",
       "    </tr>\n",
       "    <tr>\n",
       "      <td>50%</td>\n",
       "      <td>7.900000</td>\n",
       "      <td>0.520000</td>\n",
       "      <td>0.260000</td>\n",
       "      <td>2.200000</td>\n",
       "      <td>0.079000</td>\n",
       "      <td>14.000000</td>\n",
       "    </tr>\n",
       "    <tr>\n",
       "      <td>75%</td>\n",
       "      <td>9.200000</td>\n",
       "      <td>0.640000</td>\n",
       "      <td>0.420000</td>\n",
       "      <td>2.600000</td>\n",
       "      <td>0.090000</td>\n",
       "      <td>21.000000</td>\n",
       "    </tr>\n",
       "    <tr>\n",
       "      <td>max</td>\n",
       "      <td>15.900000</td>\n",
       "      <td>1.580000</td>\n",
       "      <td>1.000000</td>\n",
       "      <td>15.500000</td>\n",
       "      <td>0.611000</td>\n",
       "      <td>72.000000</td>\n",
       "    </tr>\n",
       "  </tbody>\n",
       "</table>\n",
       "</div>"
      ],
      "text/plain": [
       "       fixed_acidity  volatile_acidity  citric_acid  residual_sugar  \\\n",
       "count  1599.000000    1599.000000       1599.000000  1599.000000      \n",
       "mean   8.319637       0.527821          0.270976     2.538806         \n",
       "std    1.741096       0.179060          0.194801     1.409928         \n",
       "min    4.600000       0.120000          0.000000     0.900000         \n",
       "25%    7.100000       0.390000          0.090000     1.900000         \n",
       "50%    7.900000       0.520000          0.260000     2.200000         \n",
       "75%    9.200000       0.640000          0.420000     2.600000         \n",
       "max    15.900000      1.580000          1.000000     15.500000        \n",
       "\n",
       "         chlorides  free_sulfur_dioxide  \n",
       "count  1599.000000  1599.000000          \n",
       "mean   0.087467     15.874922            \n",
       "std    0.047065     10.460157            \n",
       "min    0.012000     1.000000             \n",
       "25%    0.070000     7.000000             \n",
       "50%    0.079000     14.000000            \n",
       "75%    0.090000     21.000000            \n",
       "max    0.611000     72.000000            "
      ]
     },
     "execution_count": 5,
     "metadata": {},
     "output_type": "execute_result"
    }
   ],
   "source": [
    "# Discriptive statistic\n",
    "red_wine.iloc[:,0:6].describe()"
   ]
  },
  {
   "cell_type": "code",
   "execution_count": 6,
   "metadata": {},
   "outputs": [
    {
     "data": {
      "text/html": [
       "<div>\n",
       "<style scoped>\n",
       "    .dataframe tbody tr th:only-of-type {\n",
       "        vertical-align: middle;\n",
       "    }\n",
       "\n",
       "    .dataframe tbody tr th {\n",
       "        vertical-align: top;\n",
       "    }\n",
       "\n",
       "    .dataframe thead th {\n",
       "        text-align: right;\n",
       "    }\n",
       "</style>\n",
       "<table border=\"1\" class=\"dataframe\">\n",
       "  <thead>\n",
       "    <tr style=\"text-align: right;\">\n",
       "      <th></th>\n",
       "      <th>total_sulfur_dioxide</th>\n",
       "      <th>density</th>\n",
       "      <th>pH</th>\n",
       "      <th>sulphates</th>\n",
       "      <th>alcohol</th>\n",
       "      <th>quality</th>\n",
       "    </tr>\n",
       "  </thead>\n",
       "  <tbody>\n",
       "    <tr>\n",
       "      <td>count</td>\n",
       "      <td>1599.000000</td>\n",
       "      <td>1599.000000</td>\n",
       "      <td>1599.000000</td>\n",
       "      <td>1599.000000</td>\n",
       "      <td>1599.000000</td>\n",
       "      <td>1599.000000</td>\n",
       "    </tr>\n",
       "    <tr>\n",
       "      <td>mean</td>\n",
       "      <td>46.467792</td>\n",
       "      <td>0.996747</td>\n",
       "      <td>3.311113</td>\n",
       "      <td>0.658149</td>\n",
       "      <td>10.422983</td>\n",
       "      <td>5.636023</td>\n",
       "    </tr>\n",
       "    <tr>\n",
       "      <td>std</td>\n",
       "      <td>32.895324</td>\n",
       "      <td>0.001887</td>\n",
       "      <td>0.154386</td>\n",
       "      <td>0.169507</td>\n",
       "      <td>1.065668</td>\n",
       "      <td>0.807569</td>\n",
       "    </tr>\n",
       "    <tr>\n",
       "      <td>min</td>\n",
       "      <td>6.000000</td>\n",
       "      <td>0.990070</td>\n",
       "      <td>2.740000</td>\n",
       "      <td>0.330000</td>\n",
       "      <td>8.400000</td>\n",
       "      <td>3.000000</td>\n",
       "    </tr>\n",
       "    <tr>\n",
       "      <td>25%</td>\n",
       "      <td>22.000000</td>\n",
       "      <td>0.995600</td>\n",
       "      <td>3.210000</td>\n",
       "      <td>0.550000</td>\n",
       "      <td>9.500000</td>\n",
       "      <td>5.000000</td>\n",
       "    </tr>\n",
       "    <tr>\n",
       "      <td>50%</td>\n",
       "      <td>38.000000</td>\n",
       "      <td>0.996750</td>\n",
       "      <td>3.310000</td>\n",
       "      <td>0.620000</td>\n",
       "      <td>10.200000</td>\n",
       "      <td>6.000000</td>\n",
       "    </tr>\n",
       "    <tr>\n",
       "      <td>75%</td>\n",
       "      <td>62.000000</td>\n",
       "      <td>0.997835</td>\n",
       "      <td>3.400000</td>\n",
       "      <td>0.730000</td>\n",
       "      <td>11.100000</td>\n",
       "      <td>6.000000</td>\n",
       "    </tr>\n",
       "    <tr>\n",
       "      <td>max</td>\n",
       "      <td>289.000000</td>\n",
       "      <td>1.003690</td>\n",
       "      <td>4.010000</td>\n",
       "      <td>2.000000</td>\n",
       "      <td>14.900000</td>\n",
       "      <td>8.000000</td>\n",
       "    </tr>\n",
       "  </tbody>\n",
       "</table>\n",
       "</div>"
      ],
      "text/plain": [
       "       total_sulfur_dioxide      density           pH    sulphates  \\\n",
       "count  1599.000000           1599.000000  1599.000000  1599.000000   \n",
       "mean   46.467792             0.996747     3.311113     0.658149      \n",
       "std    32.895324             0.001887     0.154386     0.169507      \n",
       "min    6.000000              0.990070     2.740000     0.330000      \n",
       "25%    22.000000             0.995600     3.210000     0.550000      \n",
       "50%    38.000000             0.996750     3.310000     0.620000      \n",
       "75%    62.000000             0.997835     3.400000     0.730000      \n",
       "max    289.000000            1.003690     4.010000     2.000000      \n",
       "\n",
       "           alcohol      quality  \n",
       "count  1599.000000  1599.000000  \n",
       "mean   10.422983    5.636023     \n",
       "std    1.065668     0.807569     \n",
       "min    8.400000     3.000000     \n",
       "25%    9.500000     5.000000     \n",
       "50%    10.200000    6.000000     \n",
       "75%    11.100000    6.000000     \n",
       "max    14.900000    8.000000     "
      ]
     },
     "execution_count": 6,
     "metadata": {},
     "output_type": "execute_result"
    }
   ],
   "source": [
    "red_wine.iloc[:,6:12].describe()"
   ]
  },
  {
   "cell_type": "markdown",
   "metadata": {},
   "source": [
    "# Split data into training and testing set\n",
    "#### randomly draw a sample from the dataset to be the training set and the remaining data to be the test set\n",
    "#### Using 'sample(frac,random_state)' to draw a training set\n",
    "- Input:\n",
    "    - frac: the proportion of data to be drawn from a given dataset\n",
    "    - random_state: the random seed for random split; \n",
    "        - If we ignore this input, Python randamly picks a random seed.\n",
    "        - We may assign a fixed value for the random seed such that the split will be the same for each time when we rerun the code\n",
    "- Output:\n",
    "    - a random subset of the given dataset"
   ]
  },
  {
   "cell_type": "code",
   "execution_count": 7,
   "metadata": {},
   "outputs": [
    {
     "data": {
      "text/plain": [
       "((1279, 12), (320, 12))"
      ]
     },
     "execution_count": 7,
     "metadata": {},
     "output_type": "execute_result"
    }
   ],
   "source": [
    "red_copy = red_wine.copy()\n",
    "# Training set\n",
    "train_set = red_copy.sample(frac=0.80, random_state=0)\n",
    "# Test set\n",
    "test_set = red_copy.drop(train_set.index)\n",
    "train_set.shape, test_set.shape"
   ]
  },
  {
   "cell_type": "markdown",
   "metadata": {},
   "source": [
    "# The full model:"
   ]
  },
  {
   "cell_type": "code",
   "execution_count": 8,
   "metadata": {
    "scrolled": true
   },
   "outputs": [
    {
     "name": "stdout",
     "output_type": "stream",
     "text": [
      "                            OLS Regression Results                            \n",
      "==============================================================================\n",
      "Dep. Variable:                quality   R-squared:                       0.344\n",
      "Model:                            OLS   Adj. R-squared:                  0.339\n",
      "Method:                 Least Squares   F-statistic:                     60.46\n",
      "Date:                Wed, 29 Jul 2020   Prob (F-statistic):          5.38e-108\n",
      "Time:                        10:43:50   Log-Likelihood:                -1273.7\n",
      "No. Observations:                1279   AIC:                             2571.\n",
      "Df Residuals:                    1267   BIC:                             2633.\n",
      "Df Model:                          11                                         \n",
      "Covariance Type:            nonrobust                                         \n",
      "========================================================================================\n",
      "                           coef    std err          t      P>|t|      [0.025      0.975]\n",
      "----------------------------------------------------------------------------------------\n",
      "const                   14.0657     23.814      0.591      0.555     -32.654      60.785\n",
      "fixed_acidity            0.0083      0.030      0.280      0.779      -0.050       0.066\n",
      "volatile_acidity        -1.1127      0.141     -7.911      0.000      -1.389      -0.837\n",
      "citric_acid             -0.2371      0.168     -1.415      0.157      -0.566       0.092\n",
      "residual_sugar           0.0039      0.018      0.217      0.828      -0.032       0.040\n",
      "chlorides               -1.4986      0.492     -3.043      0.002      -2.465      -0.532\n",
      "free_sulfur_dioxide      0.0035      0.002      1.404      0.161      -0.001       0.008\n",
      "total_sulfur_dioxide    -0.0029      0.001     -3.543      0.000      -0.005      -0.001\n",
      "density                 -9.3059     24.314     -0.383      0.702     -57.007      38.395\n",
      "pH                      -0.5967      0.219     -2.725      0.007      -1.026      -0.167\n",
      "sulphates                0.9034      0.137      6.573      0.000       0.634       1.173\n",
      "alcohol                  0.2880      0.030      9.551      0.000       0.229       0.347\n",
      "==============================================================================\n",
      "Omnibus:                       21.437   Durbin-Watson:                   2.073\n",
      "Prob(Omnibus):                  0.000   Jarque-Bera (JB):               33.757\n",
      "Skew:                          -0.136   Prob(JB):                     4.67e-08\n",
      "Kurtosis:                       3.748   Cond. No.                     1.12e+05\n",
      "==============================================================================\n",
      "\n",
      "Warnings:\n",
      "[1] Standard Errors assume that the covariance matrix of the errors is correctly specified.\n",
      "[2] The condition number is large, 1.12e+05. This might indicate that there are\n",
      "strong multicollinearity or other numerical problems.\n"
     ]
    }
   ],
   "source": [
    "import statsmodels.api as sm\n",
    "model = sm.OLS(train_set['quality'], sm.add_constant(train_set[train_set.columns[0:11]]))\n",
    "results = model.fit()\n",
    "print (results.summary())"
   ]
  },
  {
   "cell_type": "markdown",
   "metadata": {},
   "source": [
    "# Best Subset Selection\n",
    "#### Getting the variables/features list of the single best model for each criterion\n",
    "#### Using 'best_subset(X,Y)'\n",
    "- Input:\n",
    "    - X: the dataset of the predictors\n",
    "    - Y: the data of the response variable\n",
    "- Output:\n",
    "    - A summary table of the features list of the single best model for each criterion\n",
    "    - In the meanwhile, plots of criteria vs number of feautres will be shown "
   ]
  },
  {
   "cell_type": "code",
   "execution_count": 9,
   "metadata": {},
   "outputs": [],
   "source": [
    "X = train_set.drop(columns = 'quality')\n",
    "Y = train_set['quality']"
   ]
  },
  {
   "cell_type": "code",
   "execution_count": 10,
   "metadata": {},
   "outputs": [],
   "source": [
    "#execute: '!pip install tqdm' once before using best_subset() for the first time"
   ]
  },
  {
   "cell_type": "code",
   "execution_count": 11,
   "metadata": {},
   "outputs": [
    {
     "data": {
      "application/vnd.jupyter.widget-view+json": {
       "model_id": "1c9e645362fa49cdad36d5a2d994323c",
       "version_major": 2,
       "version_minor": 0
      },
      "text/plain": [
       "HBox(children=(IntProgress(value=0, description='Loop...', max=11, style=ProgressStyle(description_width='init…"
      ]
     },
     "metadata": {},
     "output_type": "display_data"
    },
    {
     "name": "stdout",
     "output_type": "stream",
     "text": [
      "\n"
     ]
    },
    {
     "data": {
      "text/html": [
       "<div>\n",
       "<style scoped>\n",
       "    .dataframe tbody tr th:only-of-type {\n",
       "        vertical-align: middle;\n",
       "    }\n",
       "\n",
       "    .dataframe tbody tr th {\n",
       "        vertical-align: top;\n",
       "    }\n",
       "\n",
       "    .dataframe thead th {\n",
       "        text-align: right;\n",
       "    }\n",
       "</style>\n",
       "<table border=\"1\" class=\"dataframe\">\n",
       "  <thead>\n",
       "    <tr style=\"text-align: right;\">\n",
       "      <th></th>\n",
       "      <th>numb_features</th>\n",
       "      <th>SSE</th>\n",
       "      <th>R_squared</th>\n",
       "      <th>Adj_R2</th>\n",
       "      <th>AIC</th>\n",
       "      <th>BIC</th>\n",
       "      <th>C_p</th>\n",
       "      <th>features</th>\n",
       "    </tr>\n",
       "  </thead>\n",
       "  <tbody>\n",
       "    <tr>\n",
       "      <td>10</td>\n",
       "      <td>1</td>\n",
       "      <td>652.807461</td>\n",
       "      <td>0.219922</td>\n",
       "      <td>0.219311</td>\n",
       "      <td>2773.451312</td>\n",
       "      <td>2783.758980</td>\n",
       "      <td>0.511082</td>\n",
       "      <td>(alcohol,)</td>\n",
       "    </tr>\n",
       "    <tr>\n",
       "      <td>29</td>\n",
       "      <td>2</td>\n",
       "      <td>582.298103</td>\n",
       "      <td>0.304178</td>\n",
       "      <td>0.303087</td>\n",
       "      <td>2629.261981</td>\n",
       "      <td>2644.723482</td>\n",
       "      <td>0.456631</td>\n",
       "      <td>(volatile_acidity, alcohol)</td>\n",
       "    </tr>\n",
       "    <tr>\n",
       "      <td>146</td>\n",
       "      <td>3</td>\n",
       "      <td>567.086988</td>\n",
       "      <td>0.322355</td>\n",
       "      <td>0.320760</td>\n",
       "      <td>2597.407092</td>\n",
       "      <td>2618.022427</td>\n",
       "      <td>0.445415</td>\n",
       "      <td>(volatile_acidity, sulphates, alcohol)</td>\n",
       "    </tr>\n",
       "    <tr>\n",
       "      <td>430</td>\n",
       "      <td>4</td>\n",
       "      <td>560.733905</td>\n",
       "      <td>0.329946</td>\n",
       "      <td>0.327842</td>\n",
       "      <td>2584.997570</td>\n",
       "      <td>2610.766739</td>\n",
       "      <td>0.441125</td>\n",
       "      <td>(volatile_acidity, total_sulfur_dioxide, sulphates, alcohol)</td>\n",
       "    </tr>\n",
       "    <tr>\n",
       "      <td>895</td>\n",
       "      <td>5</td>\n",
       "      <td>556.731185</td>\n",
       "      <td>0.334729</td>\n",
       "      <td>0.332116</td>\n",
       "      <td>2577.834868</td>\n",
       "      <td>2608.757871</td>\n",
       "      <td>0.438673</td>\n",
       "      <td>(volatile_acidity, total_sulfur_dioxide, pH, sulphates, alcohol)</td>\n",
       "    </tr>\n",
       "    <tr>\n",
       "      <td>1393</td>\n",
       "      <td>6</td>\n",
       "      <td>551.537555</td>\n",
       "      <td>0.340935</td>\n",
       "      <td>0.337827</td>\n",
       "      <td>2567.847339</td>\n",
       "      <td>2603.924175</td>\n",
       "      <td>0.435289</td>\n",
       "      <td>(volatile_acidity, chlorides, total_sulfur_dioxide, pH, sulphates, alcohol)</td>\n",
       "    </tr>\n",
       "    <tr>\n",
       "      <td>1743</td>\n",
       "      <td>7</td>\n",
       "      <td>549.737204</td>\n",
       "      <td>0.343087</td>\n",
       "      <td>0.339469</td>\n",
       "      <td>2565.665548</td>\n",
       "      <td>2606.896219</td>\n",
       "      <td>0.434559</td>\n",
       "      <td>(volatile_acidity, citric_acid, chlorides, total_sulfur_dioxide, pH, sulphates, alcohol)</td>\n",
       "    </tr>\n",
       "    <tr>\n",
       "      <td>1959</td>\n",
       "      <td>8</td>\n",
       "      <td>548.843477</td>\n",
       "      <td>0.344155</td>\n",
       "      <td>0.340023</td>\n",
       "      <td>2565.584541</td>\n",
       "      <td>2611.969045</td>\n",
       "      <td>0.434538</td>\n",
       "      <td>(volatile_acidity, citric_acid, chlorides, free_sulfur_dioxide, total_sulfur_dioxide, pH, sulphates, alcohol)</td>\n",
       "    </tr>\n",
       "    <tr>\n",
       "      <td>2032</td>\n",
       "      <td>9</td>\n",
       "      <td>548.818779</td>\n",
       "      <td>0.344184</td>\n",
       "      <td>0.339533</td>\n",
       "      <td>2567.526984</td>\n",
       "      <td>2619.065322</td>\n",
       "      <td>0.435196</td>\n",
       "      <td>(volatile_acidity, citric_acid, chlorides, free_sulfur_dioxide, total_sulfur_dioxide, density, pH, sulphates, alcohol)</td>\n",
       "    </tr>\n",
       "    <tr>\n",
       "      <td>2042</td>\n",
       "      <td>10</td>\n",
       "      <td>548.800019</td>\n",
       "      <td>0.344207</td>\n",
       "      <td>0.339035</td>\n",
       "      <td>2569.483263</td>\n",
       "      <td>2626.175434</td>\n",
       "      <td>0.435858</td>\n",
       "      <td>(fixed_acidity, volatile_acidity, citric_acid, chlorides, free_sulfur_dioxide, total_sulfur_dioxide, density, pH, sulphates, alcohol)</td>\n",
       "    </tr>\n",
       "    <tr>\n",
       "      <td>2046</td>\n",
       "      <td>11</td>\n",
       "      <td>548.779611</td>\n",
       "      <td>0.344231</td>\n",
       "      <td>0.338538</td>\n",
       "      <td>2571.435700</td>\n",
       "      <td>2633.281706</td>\n",
       "      <td>0.436520</td>\n",
       "      <td>(fixed_acidity, volatile_acidity, citric_acid, residual_sugar, chlorides, free_sulfur_dioxide, total_sulfur_dioxide, density, pH, sulphates, alcohol)</td>\n",
       "    </tr>\n",
       "  </tbody>\n",
       "</table>\n",
       "</div>"
      ],
      "text/plain": [
       "      numb_features         SSE  R_squared    Adj_R2          AIC  \\\n",
       "10    1              652.807461  0.219922   0.219311  2773.451312   \n",
       "29    2              582.298103  0.304178   0.303087  2629.261981   \n",
       "146   3              567.086988  0.322355   0.320760  2597.407092   \n",
       "430   4              560.733905  0.329946   0.327842  2584.997570   \n",
       "895   5              556.731185  0.334729   0.332116  2577.834868   \n",
       "1393  6              551.537555  0.340935   0.337827  2567.847339   \n",
       "1743  7              549.737204  0.343087   0.339469  2565.665548   \n",
       "1959  8              548.843477  0.344155   0.340023  2565.584541   \n",
       "2032  9              548.818779  0.344184   0.339533  2567.526984   \n",
       "2042  10             548.800019  0.344207   0.339035  2569.483263   \n",
       "2046  11             548.779611  0.344231   0.338538  2571.435700   \n",
       "\n",
       "              BIC       C_p  \\\n",
       "10    2783.758980  0.511082   \n",
       "29    2644.723482  0.456631   \n",
       "146   2618.022427  0.445415   \n",
       "430   2610.766739  0.441125   \n",
       "895   2608.757871  0.438673   \n",
       "1393  2603.924175  0.435289   \n",
       "1743  2606.896219  0.434559   \n",
       "1959  2611.969045  0.434538   \n",
       "2032  2619.065322  0.435196   \n",
       "2042  2626.175434  0.435858   \n",
       "2046  2633.281706  0.436520   \n",
       "\n",
       "                                                                                                                                                   features  \n",
       "10    (alcohol,)                                                                                                                                             \n",
       "29    (volatile_acidity, alcohol)                                                                                                                            \n",
       "146   (volatile_acidity, sulphates, alcohol)                                                                                                                 \n",
       "430   (volatile_acidity, total_sulfur_dioxide, sulphates, alcohol)                                                                                           \n",
       "895   (volatile_acidity, total_sulfur_dioxide, pH, sulphates, alcohol)                                                                                       \n",
       "1393  (volatile_acidity, chlorides, total_sulfur_dioxide, pH, sulphates, alcohol)                                                                            \n",
       "1743  (volatile_acidity, citric_acid, chlorides, total_sulfur_dioxide, pH, sulphates, alcohol)                                                               \n",
       "1959  (volatile_acidity, citric_acid, chlorides, free_sulfur_dioxide, total_sulfur_dioxide, pH, sulphates, alcohol)                                          \n",
       "2032  (volatile_acidity, citric_acid, chlorides, free_sulfur_dioxide, total_sulfur_dioxide, density, pH, sulphates, alcohol)                                 \n",
       "2042  (fixed_acidity, volatile_acidity, citric_acid, chlorides, free_sulfur_dioxide, total_sulfur_dioxide, density, pH, sulphates, alcohol)                  \n",
       "2046  (fixed_acidity, volatile_acidity, citric_acid, residual_sugar, chlorides, free_sulfur_dioxide, total_sulfur_dioxide, density, pH, sulphates, alcohol)  "
      ]
     },
     "metadata": {},
     "output_type": "display_data"
    },
    {
     "data": {
      "image/png": "[encoded data removed]",
      "text/plain": [
       "<Figure size 1152x864 with 4 Axes>"
      ]
     },
     "metadata": {
      "needs_background": "light"
     },
     "output_type": "display_data"
    }
   ],
   "source": [
    "best_result=MS.best_subset(X,Y)"
   ]
  },
  {
   "cell_type": "code",
   "execution_count": 12,
   "metadata": {},
   "outputs": [
    {
     "data": {
      "text/html": [
       "<div>\n",
       "<style scoped>\n",
       "    .dataframe tbody tr th:only-of-type {\n",
       "        vertical-align: middle;\n",
       "    }\n",
       "\n",
       "    .dataframe tbody tr th {\n",
       "        vertical-align: top;\n",
       "    }\n",
       "\n",
       "    .dataframe thead th {\n",
       "        text-align: right;\n",
       "    }\n",
       "</style>\n",
       "<table border=\"1\" class=\"dataframe\">\n",
       "  <thead>\n",
       "    <tr style=\"text-align: right;\">\n",
       "      <th></th>\n",
       "      <th>Adj_R2</th>\n",
       "      <th>AIC</th>\n",
       "      <th>BIC</th>\n",
       "      <th>C_p</th>\n",
       "    </tr>\n",
       "  </thead>\n",
       "  <tbody>\n",
       "    <tr>\n",
       "      <td>0</td>\n",
       "      <td>volatile_acidity</td>\n",
       "      <td>volatile_acidity</td>\n",
       "      <td>volatile_acidity</td>\n",
       "      <td>volatile_acidity</td>\n",
       "    </tr>\n",
       "    <tr>\n",
       "      <td>1</td>\n",
       "      <td>citric_acid</td>\n",
       "      <td>citric_acid</td>\n",
       "      <td>chlorides</td>\n",
       "      <td>citric_acid</td>\n",
       "    </tr>\n",
       "    <tr>\n",
       "      <td>2</td>\n",
       "      <td>chlorides</td>\n",
       "      <td>chlorides</td>\n",
       "      <td>total_sulfur_dioxide</td>\n",
       "      <td>chlorides</td>\n",
       "    </tr>\n",
       "    <tr>\n",
       "      <td>3</td>\n",
       "      <td>free_sulfur_dioxide</td>\n",
       "      <td>free_sulfur_dioxide</td>\n",
       "      <td>pH</td>\n",
       "      <td>free_sulfur_dioxide</td>\n",
       "    </tr>\n",
       "    <tr>\n",
       "      <td>4</td>\n",
       "      <td>total_sulfur_dioxide</td>\n",
       "      <td>total_sulfur_dioxide</td>\n",
       "      <td>sulphates</td>\n",
       "      <td>total_sulfur_dioxide</td>\n",
       "    </tr>\n",
       "    <tr>\n",
       "      <td>5</td>\n",
       "      <td>pH</td>\n",
       "      <td>pH</td>\n",
       "      <td>alcohol</td>\n",
       "      <td>pH</td>\n",
       "    </tr>\n",
       "    <tr>\n",
       "      <td>6</td>\n",
       "      <td>sulphates</td>\n",
       "      <td>sulphates</td>\n",
       "      <td>NaN</td>\n",
       "      <td>sulphates</td>\n",
       "    </tr>\n",
       "    <tr>\n",
       "      <td>7</td>\n",
       "      <td>alcohol</td>\n",
       "      <td>alcohol</td>\n",
       "      <td>NaN</td>\n",
       "      <td>alcohol</td>\n",
       "    </tr>\n",
       "  </tbody>\n",
       "</table>\n",
       "</div>"
      ],
      "text/plain": [
       "                 Adj_R2                   AIC                   BIC  \\\n",
       "0  volatile_acidity      volatile_acidity      volatile_acidity       \n",
       "1  citric_acid           citric_acid           chlorides              \n",
       "2  chlorides             chlorides             total_sulfur_dioxide   \n",
       "3  free_sulfur_dioxide   free_sulfur_dioxide   pH                     \n",
       "4  total_sulfur_dioxide  total_sulfur_dioxide  sulphates              \n",
       "5  pH                    pH                    alcohol                \n",
       "6  sulphates             sulphates             NaN                    \n",
       "7  alcohol               alcohol               NaN                    \n",
       "\n",
       "                    C_p  \n",
       "0  volatile_acidity      \n",
       "1  citric_acid           \n",
       "2  chlorides             \n",
       "3  free_sulfur_dioxide   \n",
       "4  total_sulfur_dioxide  \n",
       "5  pH                    \n",
       "6  sulphates             \n",
       "7  alcohol               "
      ]
     },
     "execution_count": 12,
     "metadata": {},
     "output_type": "execute_result"
    }
   ],
   "source": [
    "best_result"
   ]
  },
  {
   "cell_type": "markdown",
   "metadata": {},
   "source": [
    "### Get the single best model selected by a given criteria, and fit the model"
   ]
  },
  {
   "cell_type": "code",
   "execution_count": 13,
   "metadata": {},
   "outputs": [
    {
     "data": {
      "text/plain": [
       "0    volatile_acidity    \n",
       "1    citric_acid         \n",
       "2    chlorides           \n",
       "3    free_sulfur_dioxide \n",
       "4    total_sulfur_dioxide\n",
       "5    pH                  \n",
       "6    sulphates           \n",
       "7    alcohol             \n",
       "Name: Adj_R2, dtype: object"
      ]
     },
     "execution_count": 13,
     "metadata": {},
     "output_type": "execute_result"
    }
   ],
   "source": [
    "# Example: Adjusted Rsquare\n",
    "# Take out the variable list of Adjusted Rsquare from 'best_result'\n",
    "X_feature_Adj_R2=best_result['Adj_R2']\n",
    "X_feature_Adj_R2"
   ]
  },
  {
   "cell_type": "code",
   "execution_count": 14,
   "metadata": {},
   "outputs": [
    {
     "name": "stdout",
     "output_type": "stream",
     "text": [
      "                            OLS Regression Results                            \n",
      "==============================================================================\n",
      "Dep. Variable:                quality   R-squared:                       0.344\n",
      "Model:                            OLS   Adj. R-squared:                  0.340\n",
      "Method:                 Least Squares   F-statistic:                     83.30\n",
      "Date:                Wed, 29 Jul 2020   Prob (F-statistic):          8.27e-111\n",
      "Time:                        10:44:07   Log-Likelihood:                -1273.8\n",
      "No. Observations:                1279   AIC:                             2566.\n",
      "Df Residuals:                    1270   BIC:                             2612.\n",
      "Df Model:                           8                                         \n",
      "Covariance Type:            nonrobust                                         \n",
      "========================================================================================\n",
      "                           coef    std err          t      P>|t|      [0.025      0.975]\n",
      "----------------------------------------------------------------------------------------\n",
      "const                    4.9407      0.518      9.530      0.000       3.924       5.958\n",
      "volatile_acidity        -1.1205      0.134     -8.349      0.000      -1.384      -0.857\n",
      "citric_acid             -0.2409      0.138     -1.752      0.080      -0.511       0.029\n",
      "chlorides               -1.5067      0.473     -3.186      0.001      -2.435      -0.579\n",
      "free_sulfur_dioxide      0.0035      0.002      1.438      0.151      -0.001       0.008\n",
      "total_sulfur_dioxide    -0.0030      0.001     -3.748      0.000      -0.005      -0.001\n",
      "pH                      -0.6423      0.150     -4.275      0.000      -0.937      -0.348\n",
      "sulphates                0.8905      0.132      6.725      0.000       0.631       1.150\n",
      "alcohol                  0.2969      0.019     15.597      0.000       0.260       0.334\n",
      "==============================================================================\n",
      "Omnibus:                       20.768   Durbin-Watson:                   2.072\n",
      "Prob(Omnibus):                  0.000   Jarque-Bera (JB):               32.556\n",
      "Skew:                          -0.131   Prob(JB):                     8.52e-08\n",
      "Kurtosis:                       3.736   Cond. No.                     1.82e+03\n",
      "==============================================================================\n",
      "\n",
      "Warnings:\n",
      "[1] Standard Errors assume that the covariance matrix of the errors is correctly specified.\n",
      "[2] The condition number is large, 1.82e+03. This might indicate that there are\n",
      "strong multicollinearity or other numerical problems.\n"
     ]
    }
   ],
   "source": [
    "# Example: by Adjusted Rsquare\n",
    "X_feature_Adj_R2=best_result['Adj_R2']\n",
    "fit_Adj_R2 = sm.OLS(train_set['quality'], sm.add_constant(train_set[X_feature_Adj_R2])).fit()\n",
    "print(fit_Adj_R2.summary())"
   ]
  },
  {
   "cell_type": "code",
   "execution_count": 15,
   "metadata": {},
   "outputs": [
    {
     "data": {
      "text/plain": [
       "0    volatile_acidity    \n",
       "1    chlorides           \n",
       "2    total_sulfur_dioxide\n",
       "3    pH                  \n",
       "4    sulphates           \n",
       "5    alcohol             \n",
       "Name: BIC, dtype: object"
      ]
     },
     "execution_count": 15,
     "metadata": {},
     "output_type": "execute_result"
    }
   ],
   "source": [
    "# Example: BIC\n",
    "# Take out the variable list of BIC from 'best_result'\n",
    "# Notice that there are missing values (e.g. NaN) for the column of BIC due to the smaller size than other models\n",
    "# So we need to apply 'dropna()' to remove the missing values before fitting the regression model\n",
    "X_feature_BIC=best_result['BIC'].dropna()\n",
    "X_feature_BIC"
   ]
  },
  {
   "cell_type": "code",
   "execution_count": 16,
   "metadata": {},
   "outputs": [
    {
     "name": "stdout",
     "output_type": "stream",
     "text": [
      "                            OLS Regression Results                            \n",
      "==============================================================================\n",
      "Dep. Variable:                quality   R-squared:                       0.341\n",
      "Model:                            OLS   Adj. R-squared:                  0.338\n",
      "Method:                 Least Squares   F-statistic:                     109.7\n",
      "Date:                Wed, 29 Jul 2020   Prob (F-statistic):          1.64e-111\n",
      "Time:                        10:44:07   Log-Likelihood:                -1276.9\n",
      "No. Observations:                1279   AIC:                             2568.\n",
      "Df Residuals:                    1272   BIC:                             2604.\n",
      "Df Model:                           6                                         \n",
      "Covariance Type:            nonrobust                                         \n",
      "========================================================================================\n",
      "                           coef    std err          t      P>|t|      [0.025      0.975]\n",
      "----------------------------------------------------------------------------------------\n",
      "const                    4.3911      0.450      9.758      0.000       3.508       5.274\n",
      "volatile_acidity        -1.0239      0.115     -8.867      0.000      -1.250      -0.797\n",
      "chlorides               -1.6219      0.469     -3.461      0.001      -2.541      -0.703\n",
      "total_sulfur_dioxide    -0.0023      0.001     -4.034      0.000      -0.003      -0.001\n",
      "pH                      -0.4819      0.132     -3.663      0.000      -0.740      -0.224\n",
      "sulphates                0.8735      0.132      6.618      0.000       0.615       1.133\n",
      "alcohol                  0.2920      0.019     15.615      0.000       0.255       0.329\n",
      "==============================================================================\n",
      "Omnibus:                       22.407   Durbin-Watson:                   2.067\n",
      "Prob(Omnibus):                  0.000   Jarque-Bera (JB):               34.622\n",
      "Skew:                          -0.153   Prob(JB):                     3.03e-08\n",
      "Kurtosis:                       3.745   Cond. No.                     1.65e+03\n",
      "==============================================================================\n",
      "\n",
      "Warnings:\n",
      "[1] Standard Errors assume that the covariance matrix of the errors is correctly specified.\n",
      "[2] The condition number is large, 1.65e+03. This might indicate that there are\n",
      "strong multicollinearity or other numerical problems.\n"
     ]
    }
   ],
   "source": [
    "#'Example: by BIC\n",
    "fit_BIC = sm.OLS(train_set['quality'], sm.add_constant(train_set[X_feature_BIC])).fit()\n",
    "print(fit_BIC.summary())"
   ]
  },
  {
   "cell_type": "markdown",
   "metadata": {},
   "source": [
    "# Best subset selection: Use validation set (other kind of criterion) to find the single best model\n",
    "#### Getting the features list of the single best model by valdiation set approach\n",
    "#### Using 'best_subset_validation(train_set,Y_name,prop,random_seed)'\n",
    "- Input:\n",
    "    - train_set: the training set data \n",
    "    - Y_name: the name of the response variable\n",
    "    - prop: the proportion of the training set to form a training subset\n",
    "    - random_seed: the random seed in splitting the training subset and the valdiation set\n",
    "- Output:\n",
    "    - the features list of the single best model\n",
    "    - In the meanwhile, a plot of MSE vs number of feautres is shown"
   ]
  },
  {
   "cell_type": "code",
   "execution_count": 17,
   "metadata": {},
   "outputs": [
    {
     "data": {
      "application/vnd.jupyter.widget-view+json": {
       "model_id": "7ea3868b02dc492583626f726e1437f1",
       "version_major": 2,
       "version_minor": 0
      },
      "text/plain": [
       "HBox(children=(IntProgress(value=0, description='Loop...', max=11, style=ProgressStyle(description_width='init…"
      ]
     },
     "metadata": {},
     "output_type": "display_data"
    },
    {
     "name": "stdout",
     "output_type": "stream",
     "text": [
      "\n"
     ]
    },
    {
     "data": {
      "text/html": [
       "<div>\n",
       "<style scoped>\n",
       "    .dataframe tbody tr th:only-of-type {\n",
       "        vertical-align: middle;\n",
       "    }\n",
       "\n",
       "    .dataframe tbody tr th {\n",
       "        vertical-align: top;\n",
       "    }\n",
       "\n",
       "    .dataframe thead th {\n",
       "        text-align: right;\n",
       "    }\n",
       "</style>\n",
       "<table border=\"1\" class=\"dataframe\">\n",
       "  <thead>\n",
       "    <tr style=\"text-align: right;\">\n",
       "      <th></th>\n",
       "      <th>numb_features</th>\n",
       "      <th>MSE_validation</th>\n",
       "      <th>features</th>\n",
       "    </tr>\n",
       "  </thead>\n",
       "  <tbody>\n",
       "    <tr>\n",
       "      <td>10</td>\n",
       "      <td>1</td>\n",
       "      <td>0.520965</td>\n",
       "      <td>(alcohol,)</td>\n",
       "    </tr>\n",
       "    <tr>\n",
       "      <td>29</td>\n",
       "      <td>2</td>\n",
       "      <td>0.470496</td>\n",
       "      <td>(volatile_acidity, alcohol)</td>\n",
       "    </tr>\n",
       "    <tr>\n",
       "      <td>146</td>\n",
       "      <td>3</td>\n",
       "      <td>0.464429</td>\n",
       "      <td>(volatile_acidity, sulphates, alcohol)</td>\n",
       "    </tr>\n",
       "    <tr>\n",
       "      <td>430</td>\n",
       "      <td>4</td>\n",
       "      <td>0.460848</td>\n",
       "      <td>(volatile_acidity, total_sulfur_dioxide, sulphates, alcohol)</td>\n",
       "    </tr>\n",
       "    <tr>\n",
       "      <td>895</td>\n",
       "      <td>5</td>\n",
       "      <td>0.460152</td>\n",
       "      <td>(volatile_acidity, total_sulfur_dioxide, pH, sulphates, alcohol)</td>\n",
       "    </tr>\n",
       "    <tr>\n",
       "      <td>1393</td>\n",
       "      <td>6</td>\n",
       "      <td>0.462790</td>\n",
       "      <td>(volatile_acidity, chlorides, total_sulfur_dioxide, pH, sulphates, alcohol)</td>\n",
       "    </tr>\n",
       "    <tr>\n",
       "      <td>1743</td>\n",
       "      <td>7</td>\n",
       "      <td>0.464455</td>\n",
       "      <td>(volatile_acidity, citric_acid, chlorides, total_sulfur_dioxide, pH, sulphates, alcohol)</td>\n",
       "    </tr>\n",
       "    <tr>\n",
       "      <td>1959</td>\n",
       "      <td>8</td>\n",
       "      <td>0.464146</td>\n",
       "      <td>(volatile_acidity, citric_acid, chlorides, free_sulfur_dioxide, total_sulfur_dioxide, pH, sulphates, alcohol)</td>\n",
       "    </tr>\n",
       "    <tr>\n",
       "      <td>2032</td>\n",
       "      <td>9</td>\n",
       "      <td>0.465347</td>\n",
       "      <td>(volatile_acidity, citric_acid, chlorides, free_sulfur_dioxide, total_sulfur_dioxide, density, pH, sulphates, alcohol)</td>\n",
       "    </tr>\n",
       "    <tr>\n",
       "      <td>2042</td>\n",
       "      <td>10</td>\n",
       "      <td>0.465480</td>\n",
       "      <td>(fixed_acidity, volatile_acidity, citric_acid, chlorides, free_sulfur_dioxide, total_sulfur_dioxide, density, pH, sulphates, alcohol)</td>\n",
       "    </tr>\n",
       "    <tr>\n",
       "      <td>2046</td>\n",
       "      <td>11</td>\n",
       "      <td>0.475309</td>\n",
       "      <td>(fixed_acidity, volatile_acidity, citric_acid, residual_sugar, chlorides, free_sulfur_dioxide, total_sulfur_dioxide, density, pH, sulphates, alcohol)</td>\n",
       "    </tr>\n",
       "  </tbody>\n",
       "</table>\n",
       "</div>"
      ],
      "text/plain": [
       "      numb_features  MSE_validation  \\\n",
       "10    1              0.520965         \n",
       "29    2              0.470496         \n",
       "146   3              0.464429         \n",
       "430   4              0.460848         \n",
       "895   5              0.460152         \n",
       "1393  6              0.462790         \n",
       "1743  7              0.464455         \n",
       "1959  8              0.464146         \n",
       "2032  9              0.465347         \n",
       "2042  10             0.465480         \n",
       "2046  11             0.475309         \n",
       "\n",
       "                                                                                                                                                   features  \n",
       "10    (alcohol,)                                                                                                                                             \n",
       "29    (volatile_acidity, alcohol)                                                                                                                            \n",
       "146   (volatile_acidity, sulphates, alcohol)                                                                                                                 \n",
       "430   (volatile_acidity, total_sulfur_dioxide, sulphates, alcohol)                                                                                           \n",
       "895   (volatile_acidity, total_sulfur_dioxide, pH, sulphates, alcohol)                                                                                       \n",
       "1393  (volatile_acidity, chlorides, total_sulfur_dioxide, pH, sulphates, alcohol)                                                                            \n",
       "1743  (volatile_acidity, citric_acid, chlorides, total_sulfur_dioxide, pH, sulphates, alcohol)                                                               \n",
       "1959  (volatile_acidity, citric_acid, chlorides, free_sulfur_dioxide, total_sulfur_dioxide, pH, sulphates, alcohol)                                          \n",
       "2032  (volatile_acidity, citric_acid, chlorides, free_sulfur_dioxide, total_sulfur_dioxide, density, pH, sulphates, alcohol)                                 \n",
       "2042  (fixed_acidity, volatile_acidity, citric_acid, chlorides, free_sulfur_dioxide, total_sulfur_dioxide, density, pH, sulphates, alcohol)                  \n",
       "2046  (fixed_acidity, volatile_acidity, citric_acid, residual_sugar, chlorides, free_sulfur_dioxide, total_sulfur_dioxide, density, pH, sulphates, alcohol)  "
      ]
     },
     "metadata": {},
     "output_type": "display_data"
    },
    {
     "data": {
      "image/png": "[encoded data removed]",
      "text/plain": [
       "<Figure size 576x432 with 1 Axes>"
      ]
     },
     "metadata": {
      "needs_background": "light"
     },
     "output_type": "display_data"
    }
   ],
   "source": [
    "X_feature_validation = MS.best_subset_validation(train_set,'quality',0.7,0)"
   ]
  },
  {
   "cell_type": "code",
   "execution_count": 18,
   "metadata": {},
   "outputs": [
    {
     "data": {
      "text/plain": [
       "['volatile_acidity', 'total_sulfur_dioxide', 'pH', 'sulphates', 'alcohol']"
      ]
     },
     "execution_count": 18,
     "metadata": {},
     "output_type": "execute_result"
    }
   ],
   "source": [
    "# The variables of the single best model\n",
    "X_feature_validation"
   ]
  },
  {
   "cell_type": "code",
   "execution_count": 19,
   "metadata": {},
   "outputs": [
    {
     "name": "stdout",
     "output_type": "stream",
     "text": [
      "                            OLS Regression Results                            \n",
      "==============================================================================\n",
      "Dep. Variable:                quality   R-squared:                       0.335\n",
      "Model:                            OLS   Adj. R-squared:                  0.332\n",
      "Method:                 Least Squares   F-statistic:                     128.1\n",
      "Date:                Wed, 29 Jul 2020   Prob (F-statistic):          5.14e-110\n",
      "Time:                        10:44:26   Log-Likelihood:                -1282.9\n",
      "No. Observations:                1279   AIC:                             2578.\n",
      "Df Residuals:                    1273   BIC:                             2609.\n",
      "Df Model:                           5                                         \n",
      "Covariance Type:            nonrobust                                         \n",
      "========================================================================================\n",
      "                           coef    std err          t      P>|t|      [0.025      0.975]\n",
      "----------------------------------------------------------------------------------------\n",
      "const                    3.9678      0.435      9.123      0.000       3.115       4.821\n",
      "volatile_acidity        -1.1028      0.114     -9.700      0.000      -1.326      -0.880\n",
      "total_sulfur_dioxide    -0.0022      0.001     -3.878      0.000      -0.003      -0.001\n",
      "pH                      -0.3918      0.130     -3.025      0.003      -0.646      -0.138\n",
      "sulphates                0.6850      0.121      5.672      0.000       0.448       0.922\n",
      "alcohol                  0.3058      0.018     16.670      0.000       0.270       0.342\n",
      "==============================================================================\n",
      "Omnibus:                       22.747   Durbin-Watson:                   2.067\n",
      "Prob(Omnibus):                  0.000   Jarque-Bera (JB):               36.636\n",
      "Skew:                          -0.139   Prob(JB):                     1.11e-08\n",
      "Kurtosis:                       3.781   Cond. No.                     1.41e+03\n",
      "==============================================================================\n",
      "\n",
      "Warnings:\n",
      "[1] Standard Errors assume that the covariance matrix of the errors is correctly specified.\n",
      "[2] The condition number is large, 1.41e+03. This might indicate that there are\n",
      "strong multicollinearity or other numerical problems.\n"
     ]
    }
   ],
   "source": [
    "# Fitting the single best model\n",
    "fit_validation = sm.OLS(train_set['quality'], sm.add_constant(train_set[X_feature_validation])).fit()\n",
    "print(fit_validation.summary())"
   ]
  },
  {
   "cell_type": "markdown",
   "metadata": {},
   "source": [
    "# Best subset selection: Use cross validation (other kind of criterion) to find the single best model\n",
    "#### Getting the features list of the single best model using CV approach\n",
    "#### Using 'best_subset_CV(train_set,Y_name,K)'; \n",
    "- Input:\n",
    "    - train_set: the training set data \n",
    "    - Y_name: the name of the response variable \n",
    "    - K: the number of folds of the CV \n",
    "- Output:\n",
    "    - the features list of the single best model\n",
    "    - In the meanwhile, a plot of MSE vs number of feautres is shown"
   ]
  },
  {
   "cell_type": "code",
   "execution_count": 20,
   "metadata": {},
   "outputs": [
    {
     "data": {
      "application/vnd.jupyter.widget-view+json": {
       "model_id": "c1b635c29aee4603be15cf8802ed081f",
       "version_major": 2,
       "version_minor": 0
      },
      "text/plain": [
       "HBox(children=(IntProgress(value=0, description='Loop...', max=11, style=ProgressStyle(description_width='init…"
      ]
     },
     "metadata": {},
     "output_type": "display_data"
    },
    {
     "name": "stdout",
     "output_type": "stream",
     "text": [
      "\n"
     ]
    },
    {
     "data": {
      "text/html": [
       "<div>\n",
       "<style scoped>\n",
       "    .dataframe tbody tr th:only-of-type {\n",
       "        vertical-align: middle;\n",
       "    }\n",
       "\n",
       "    .dataframe tbody tr th {\n",
       "        vertical-align: top;\n",
       "    }\n",
       "\n",
       "    .dataframe thead th {\n",
       "        text-align: right;\n",
       "    }\n",
       "</style>\n",
       "<table border=\"1\" class=\"dataframe\">\n",
       "  <thead>\n",
       "    <tr style=\"text-align: right;\">\n",
       "      <th></th>\n",
       "      <th>numb_features</th>\n",
       "      <th>MSE_CV</th>\n",
       "      <th>features</th>\n",
       "    </tr>\n",
       "  </thead>\n",
       "  <tbody>\n",
       "    <tr>\n",
       "      <td>10</td>\n",
       "      <td>1</td>\n",
       "      <td>0.511319</td>\n",
       "      <td>(alcohol,)</td>\n",
       "    </tr>\n",
       "    <tr>\n",
       "      <td>29</td>\n",
       "      <td>2</td>\n",
       "      <td>0.458250</td>\n",
       "      <td>(volatile_acidity, alcohol)</td>\n",
       "    </tr>\n",
       "    <tr>\n",
       "      <td>146</td>\n",
       "      <td>3</td>\n",
       "      <td>0.447555</td>\n",
       "      <td>(volatile_acidity, sulphates, alcohol)</td>\n",
       "    </tr>\n",
       "    <tr>\n",
       "      <td>430</td>\n",
       "      <td>4</td>\n",
       "      <td>0.442790</td>\n",
       "      <td>(volatile_acidity, total_sulfur_dioxide, sulphates, alcohol)</td>\n",
       "    </tr>\n",
       "    <tr>\n",
       "      <td>895</td>\n",
       "      <td>5</td>\n",
       "      <td>0.439967</td>\n",
       "      <td>(volatile_acidity, total_sulfur_dioxide, pH, sulphates, alcohol)</td>\n",
       "    </tr>\n",
       "    <tr>\n",
       "      <td>1393</td>\n",
       "      <td>6</td>\n",
       "      <td>0.436105</td>\n",
       "      <td>(volatile_acidity, chlorides, total_sulfur_dioxide, pH, sulphates, alcohol)</td>\n",
       "    </tr>\n",
       "    <tr>\n",
       "      <td>1743</td>\n",
       "      <td>7</td>\n",
       "      <td>0.434937</td>\n",
       "      <td>(volatile_acidity, citric_acid, chlorides, total_sulfur_dioxide, pH, sulphates, alcohol)</td>\n",
       "    </tr>\n",
       "    <tr>\n",
       "      <td>1959</td>\n",
       "      <td>8</td>\n",
       "      <td>0.436298</td>\n",
       "      <td>(volatile_acidity, citric_acid, chlorides, free_sulfur_dioxide, total_sulfur_dioxide, pH, sulphates, alcohol)</td>\n",
       "    </tr>\n",
       "    <tr>\n",
       "      <td>2032</td>\n",
       "      <td>9</td>\n",
       "      <td>0.437158</td>\n",
       "      <td>(volatile_acidity, citric_acid, chlorides, free_sulfur_dioxide, total_sulfur_dioxide, density, pH, sulphates, alcohol)</td>\n",
       "    </tr>\n",
       "    <tr>\n",
       "      <td>2042</td>\n",
       "      <td>10</td>\n",
       "      <td>0.438837</td>\n",
       "      <td>(fixed_acidity, volatile_acidity, citric_acid, chlorides, free_sulfur_dioxide, total_sulfur_dioxide, density, pH, sulphates, alcohol)</td>\n",
       "    </tr>\n",
       "    <tr>\n",
       "      <td>2046</td>\n",
       "      <td>11</td>\n",
       "      <td>0.440319</td>\n",
       "      <td>(fixed_acidity, volatile_acidity, citric_acid, residual_sugar, chlorides, free_sulfur_dioxide, total_sulfur_dioxide, density, pH, sulphates, alcohol)</td>\n",
       "    </tr>\n",
       "  </tbody>\n",
       "</table>\n",
       "</div>"
      ],
      "text/plain": [
       "      numb_features    MSE_CV  \\\n",
       "10    1              0.511319   \n",
       "29    2              0.458250   \n",
       "146   3              0.447555   \n",
       "430   4              0.442790   \n",
       "895   5              0.439967   \n",
       "1393  6              0.436105   \n",
       "1743  7              0.434937   \n",
       "1959  8              0.436298   \n",
       "2032  9              0.437158   \n",
       "2042  10             0.438837   \n",
       "2046  11             0.440319   \n",
       "\n",
       "                                                                                                                                                   features  \n",
       "10    (alcohol,)                                                                                                                                             \n",
       "29    (volatile_acidity, alcohol)                                                                                                                            \n",
       "146   (volatile_acidity, sulphates, alcohol)                                                                                                                 \n",
       "430   (volatile_acidity, total_sulfur_dioxide, sulphates, alcohol)                                                                                           \n",
       "895   (volatile_acidity, total_sulfur_dioxide, pH, sulphates, alcohol)                                                                                       \n",
       "1393  (volatile_acidity, chlorides, total_sulfur_dioxide, pH, sulphates, alcohol)                                                                            \n",
       "1743  (volatile_acidity, citric_acid, chlorides, total_sulfur_dioxide, pH, sulphates, alcohol)                                                               \n",
       "1959  (volatile_acidity, citric_acid, chlorides, free_sulfur_dioxide, total_sulfur_dioxide, pH, sulphates, alcohol)                                          \n",
       "2032  (volatile_acidity, citric_acid, chlorides, free_sulfur_dioxide, total_sulfur_dioxide, density, pH, sulphates, alcohol)                                 \n",
       "2042  (fixed_acidity, volatile_acidity, citric_acid, chlorides, free_sulfur_dioxide, total_sulfur_dioxide, density, pH, sulphates, alcohol)                  \n",
       "2046  (fixed_acidity, volatile_acidity, citric_acid, residual_sugar, chlorides, free_sulfur_dioxide, total_sulfur_dioxide, density, pH, sulphates, alcohol)  "
      ]
     },
     "metadata": {},
     "output_type": "display_data"
    },
    {
     "data": {
      "image/png": "[encoded data removed]",
      "text/plain": [
       "<Figure size 576x432 with 1 Axes>"
      ]
     },
     "metadata": {
      "needs_background": "light"
     },
     "output_type": "display_data"
    }
   ],
   "source": [
    "X_feature_CV = MS.best_subset_CV(train_set,'quality',5)"
   ]
  },
  {
   "cell_type": "code",
   "execution_count": 21,
   "metadata": {},
   "outputs": [
    {
     "data": {
      "text/plain": [
       "['volatile_acidity',\n",
       " 'citric_acid',\n",
       " 'chlorides',\n",
       " 'total_sulfur_dioxide',\n",
       " 'pH',\n",
       " 'sulphates',\n",
       " 'alcohol']"
      ]
     },
     "execution_count": 21,
     "metadata": {},
     "output_type": "execute_result"
    }
   ],
   "source": [
    "X_feature_CV"
   ]
  },
  {
   "cell_type": "code",
   "execution_count": 22,
   "metadata": {},
   "outputs": [
    {
     "name": "stdout",
     "output_type": "stream",
     "text": [
      "                            OLS Regression Results                            \n",
      "==============================================================================\n",
      "Dep. Variable:                quality   R-squared:                       0.343\n",
      "Model:                            OLS   Adj. R-squared:                  0.339\n",
      "Method:                 Least Squares   F-statistic:                     94.83\n",
      "Date:                Wed, 29 Jul 2020   Prob (F-statistic):          2.28e-111\n",
      "Time:                        10:44:44   Log-Likelihood:                -1274.8\n",
      "No. Observations:                1279   AIC:                             2566.\n",
      "Df Residuals:                    1271   BIC:                             2607.\n",
      "Df Model:                           7                                         \n",
      "Covariance Type:            nonrobust                                         \n",
      "========================================================================================\n",
      "                           coef    std err          t      P>|t|      [0.025      0.975]\n",
      "----------------------------------------------------------------------------------------\n",
      "const                    4.9182      0.518      9.487      0.000       3.901       5.935\n",
      "volatile_acidity        -1.1552      0.132     -8.747      0.000      -1.414      -0.896\n",
      "citric_acid             -0.2762      0.135     -2.040      0.042      -0.542      -0.011\n",
      "chlorides               -1.4839      0.473     -3.138      0.002      -2.412      -0.556\n",
      "total_sulfur_dioxide    -0.0022      0.001     -3.808      0.000      -0.003      -0.001\n",
      "pH                      -0.6297      0.150     -4.197      0.000      -0.924      -0.335\n",
      "sulphates                0.8977      0.132      6.781      0.000       0.638       1.157\n",
      "alcohol                  0.2990      0.019     15.745      0.000       0.262       0.336\n",
      "==============================================================================\n",
      "Omnibus:                       21.005   Durbin-Watson:                   2.065\n",
      "Prob(Omnibus):                  0.000   Jarque-Bera (JB):               32.482\n",
      "Skew:                          -0.140   Prob(JB):                     8.84e-08\n",
      "Kurtosis:                       3.729   Cond. No.                     1.75e+03\n",
      "==============================================================================\n",
      "\n",
      "Warnings:\n",
      "[1] Standard Errors assume that the covariance matrix of the errors is correctly specified.\n",
      "[2] The condition number is large, 1.75e+03. This might indicate that there are\n",
      "strong multicollinearity or other numerical problems.\n"
     ]
    }
   ],
   "source": [
    "# Fitting the single best model using CV\n",
    "fit_CV = sm.OLS(train_set['quality'], sm.add_constant(train_set[X_feature_CV])).fit()\n",
    "print(fit_CV.summary())"
   ]
  },
  {
   "cell_type": "markdown",
   "metadata": {},
   "source": [
    "# Forward selection\n",
    "For computational reasons, the best subset cannot be applied for any large $p$ due to the $2^p$ complexity. Forward Stepwise begins with a model containing no predictors, and then adds predictors to the model, one at the time. At each step, the variable that gives the greatest additional improvement to the fit is added to the model.\n",
    "\n",
    "## Algorithm\n",
    "Let $\\mathcal{M}_0$ denote the null model which contains no predictors\n",
    "\n",
    "* Stage 1: For $k = 1,2,...,p-1$\n",
    "    * Consider all $p - k$ models that augment the predictors in $\\mathcal{M_k}$ with one additional predictor\n",
    "    * Choose the best among these $p - k$ models, and call it $\\mathcal{M_{k+1}}$\n",
    "* Stage 2: Select the single best model among $\\mathcal{M_0, M_1,...,M_p}$ using AIC, BIC, adjusted $R^2$ or any other method."
   ]
  },
  {
   "cell_type": "markdown",
   "metadata": {},
   "source": [
    "#### Getting the variables/features list of the forward selection for each criterion\n",
    "#### Using 'forward_selection_(X,Y)'\n",
    "- Input:\n",
    "    - X: the dataset of the predictors\n",
    "    - Y: the data of the response variable\n",
    "- Output:\n",
    "    - A summary table contains the variables/features list of the forward selection for each criterion\n",
    "    - In the meanwhile, plots of criterion vs number of features are shown"
   ]
  },
  {
   "cell_type": "code",
   "execution_count": 23,
   "metadata": {},
   "outputs": [],
   "source": [
    "X = train_set.drop(columns = 'quality')\n",
    "Y = train_set['quality']"
   ]
  },
  {
   "cell_type": "code",
   "execution_count": 24,
   "metadata": {},
   "outputs": [
    {
     "data": {
      "text/html": [
       "<div>\n",
       "<style scoped>\n",
       "    .dataframe tbody tr th:only-of-type {\n",
       "        vertical-align: middle;\n",
       "    }\n",
       "\n",
       "    .dataframe tbody tr th {\n",
       "        vertical-align: top;\n",
       "    }\n",
       "\n",
       "    .dataframe thead th {\n",
       "        text-align: right;\n",
       "    }\n",
       "</style>\n",
       "<table border=\"1\" class=\"dataframe\">\n",
       "  <thead>\n",
       "    <tr style=\"text-align: right;\">\n",
       "      <th></th>\n",
       "      <th>features</th>\n",
       "      <th>features added</th>\n",
       "      <th>SSE</th>\n",
       "      <th>R_squared</th>\n",
       "      <th>Adj_R2</th>\n",
       "      <th>AIC</th>\n",
       "      <th>BIC</th>\n",
       "      <th>C_p</th>\n",
       "      <th>numb_features</th>\n",
       "    </tr>\n",
       "  </thead>\n",
       "  <tbody>\n",
       "    <tr>\n",
       "      <td>step 1</td>\n",
       "      <td>[alcohol]</td>\n",
       "      <td>alcohol</td>\n",
       "      <td>652.807461</td>\n",
       "      <td>0.219922</td>\n",
       "      <td>0.219311</td>\n",
       "      <td>2773.451312</td>\n",
       "      <td>2783.758980</td>\n",
       "      <td>0.511082</td>\n",
       "      <td>1</td>\n",
       "    </tr>\n",
       "    <tr>\n",
       "      <td>step 2</td>\n",
       "      <td>[alcohol, volatile_acidity]</td>\n",
       "      <td>volatile_acidity</td>\n",
       "      <td>582.298103</td>\n",
       "      <td>0.304178</td>\n",
       "      <td>0.303087</td>\n",
       "      <td>2629.261981</td>\n",
       "      <td>2644.723482</td>\n",
       "      <td>0.456631</td>\n",
       "      <td>2</td>\n",
       "    </tr>\n",
       "    <tr>\n",
       "      <td>step 3</td>\n",
       "      <td>[alcohol, volatile_acidity, sulphates]</td>\n",
       "      <td>sulphates</td>\n",
       "      <td>567.086988</td>\n",
       "      <td>0.322355</td>\n",
       "      <td>0.320760</td>\n",
       "      <td>2597.407092</td>\n",
       "      <td>2618.022427</td>\n",
       "      <td>0.445415</td>\n",
       "      <td>3</td>\n",
       "    </tr>\n",
       "    <tr>\n",
       "      <td>step 4</td>\n",
       "      <td>[alcohol, volatile_acidity, sulphates, total_sulfur_dioxide]</td>\n",
       "      <td>total_sulfur_dioxide</td>\n",
       "      <td>560.733905</td>\n",
       "      <td>0.329946</td>\n",
       "      <td>0.327842</td>\n",
       "      <td>2584.997570</td>\n",
       "      <td>2610.766739</td>\n",
       "      <td>0.441125</td>\n",
       "      <td>4</td>\n",
       "    </tr>\n",
       "    <tr>\n",
       "      <td>step 5</td>\n",
       "      <td>[alcohol, volatile_acidity, sulphates, total_sulfur_dioxide, pH]</td>\n",
       "      <td>pH</td>\n",
       "      <td>556.731185</td>\n",
       "      <td>0.334729</td>\n",
       "      <td>0.332116</td>\n",
       "      <td>2577.834868</td>\n",
       "      <td>2608.757871</td>\n",
       "      <td>0.438673</td>\n",
       "      <td>5</td>\n",
       "    </tr>\n",
       "    <tr>\n",
       "      <td>step 6</td>\n",
       "      <td>[alcohol, volatile_acidity, sulphates, total_sulfur_dioxide, pH, chlorides]</td>\n",
       "      <td>chlorides</td>\n",
       "      <td>551.537555</td>\n",
       "      <td>0.340935</td>\n",
       "      <td>0.337827</td>\n",
       "      <td>2567.847339</td>\n",
       "      <td>2603.924175</td>\n",
       "      <td>0.435289</td>\n",
       "      <td>6</td>\n",
       "    </tr>\n",
       "    <tr>\n",
       "      <td>step 7</td>\n",
       "      <td>[alcohol, volatile_acidity, sulphates, total_sulfur_dioxide, pH, chlorides, citric_acid]</td>\n",
       "      <td>citric_acid</td>\n",
       "      <td>549.737204</td>\n",
       "      <td>0.343087</td>\n",
       "      <td>0.339469</td>\n",
       "      <td>2565.665548</td>\n",
       "      <td>2606.896219</td>\n",
       "      <td>0.434559</td>\n",
       "      <td>7</td>\n",
       "    </tr>\n",
       "    <tr>\n",
       "      <td>step 8</td>\n",
       "      <td>[alcohol, volatile_acidity, sulphates, total_sulfur_dioxide, pH, chlorides, citric_acid, free_sulfur_dioxide]</td>\n",
       "      <td>free_sulfur_dioxide</td>\n",
       "      <td>548.843477</td>\n",
       "      <td>0.344155</td>\n",
       "      <td>0.340023</td>\n",
       "      <td>2565.584541</td>\n",
       "      <td>2611.969045</td>\n",
       "      <td>0.434538</td>\n",
       "      <td>8</td>\n",
       "    </tr>\n",
       "    <tr>\n",
       "      <td>step 9</td>\n",
       "      <td>[alcohol, volatile_acidity, sulphates, total_sulfur_dioxide, pH, chlorides, citric_acid, free_sulfur_dioxide, density]</td>\n",
       "      <td>density</td>\n",
       "      <td>548.818779</td>\n",
       "      <td>0.344184</td>\n",
       "      <td>0.339533</td>\n",
       "      <td>2567.526984</td>\n",
       "      <td>2619.065322</td>\n",
       "      <td>0.435196</td>\n",
       "      <td>9</td>\n",
       "    </tr>\n",
       "    <tr>\n",
       "      <td>step 10</td>\n",
       "      <td>[alcohol, volatile_acidity, sulphates, total_sulfur_dioxide, pH, chlorides, citric_acid, free_sulfur_dioxide, density, fixed_acidity]</td>\n",
       "      <td>fixed_acidity</td>\n",
       "      <td>548.800019</td>\n",
       "      <td>0.344207</td>\n",
       "      <td>0.339035</td>\n",
       "      <td>2569.483263</td>\n",
       "      <td>2626.175434</td>\n",
       "      <td>0.435858</td>\n",
       "      <td>10</td>\n",
       "    </tr>\n",
       "    <tr>\n",
       "      <td>step 11</td>\n",
       "      <td>[alcohol, volatile_acidity, sulphates, total_sulfur_dioxide, pH, chlorides, citric_acid, free_sulfur_dioxide, density, fixed_acidity, residual_sugar]</td>\n",
       "      <td>residual_sugar</td>\n",
       "      <td>548.779611</td>\n",
       "      <td>0.344231</td>\n",
       "      <td>0.338538</td>\n",
       "      <td>2571.435700</td>\n",
       "      <td>2633.281706</td>\n",
       "      <td>0.436520</td>\n",
       "      <td>11</td>\n",
       "    </tr>\n",
       "  </tbody>\n",
       "</table>\n",
       "</div>"
      ],
      "text/plain": [
       "                                                                                                                                                      features  \\\n",
       "step 1   [alcohol]                                                                                                                                               \n",
       "step 2   [alcohol, volatile_acidity]                                                                                                                             \n",
       "step 3   [alcohol, volatile_acidity, sulphates]                                                                                                                  \n",
       "step 4   [alcohol, volatile_acidity, sulphates, total_sulfur_dioxide]                                                                                            \n",
       "step 5   [alcohol, volatile_acidity, sulphates, total_sulfur_dioxide, pH]                                                                                        \n",
       "step 6   [alcohol, volatile_acidity, sulphates, total_sulfur_dioxide, pH, chlorides]                                                                             \n",
       "step 7   [alcohol, volatile_acidity, sulphates, total_sulfur_dioxide, pH, chlorides, citric_acid]                                                                \n",
       "step 8   [alcohol, volatile_acidity, sulphates, total_sulfur_dioxide, pH, chlorides, citric_acid, free_sulfur_dioxide]                                           \n",
       "step 9   [alcohol, volatile_acidity, sulphates, total_sulfur_dioxide, pH, chlorides, citric_acid, free_sulfur_dioxide, density]                                  \n",
       "step 10  [alcohol, volatile_acidity, sulphates, total_sulfur_dioxide, pH, chlorides, citric_acid, free_sulfur_dioxide, density, fixed_acidity]                   \n",
       "step 11  [alcohol, volatile_acidity, sulphates, total_sulfur_dioxide, pH, chlorides, citric_acid, free_sulfur_dioxide, density, fixed_acidity, residual_sugar]   \n",
       "\n",
       "               features added         SSE  R_squared    Adj_R2          AIC  \\\n",
       "step 1   alcohol               652.807461  0.219922   0.219311  2773.451312   \n",
       "step 2   volatile_acidity      582.298103  0.304178   0.303087  2629.261981   \n",
       "step 3   sulphates             567.086988  0.322355   0.320760  2597.407092   \n",
       "step 4   total_sulfur_dioxide  560.733905  0.329946   0.327842  2584.997570   \n",
       "step 5   pH                    556.731185  0.334729   0.332116  2577.834868   \n",
       "step 6   chlorides             551.537555  0.340935   0.337827  2567.847339   \n",
       "step 7   citric_acid           549.737204  0.343087   0.339469  2565.665548   \n",
       "step 8   free_sulfur_dioxide   548.843477  0.344155   0.340023  2565.584541   \n",
       "step 9   density               548.818779  0.344184   0.339533  2567.526984   \n",
       "step 10  fixed_acidity         548.800019  0.344207   0.339035  2569.483263   \n",
       "step 11  residual_sugar        548.779611  0.344231   0.338538  2571.435700   \n",
       "\n",
       "                 BIC       C_p  numb_features  \n",
       "step 1   2783.758980  0.511082  1              \n",
       "step 2   2644.723482  0.456631  2              \n",
       "step 3   2618.022427  0.445415  3              \n",
       "step 4   2610.766739  0.441125  4              \n",
       "step 5   2608.757871  0.438673  5              \n",
       "step 6   2603.924175  0.435289  6              \n",
       "step 7   2606.896219  0.434559  7              \n",
       "step 8   2611.969045  0.434538  8              \n",
       "step 9   2619.065322  0.435196  9              \n",
       "step 10  2626.175434  0.435858  10             \n",
       "step 11  2633.281706  0.436520  11             "
      ]
     },
     "metadata": {},
     "output_type": "display_data"
    },
    {
     "data": {
      "image/png": "[encoded data removed]",
      "text/plain": [
       "<Figure size 1152x864 with 3 Axes>"
      ]
     },
     "metadata": {
      "needs_background": "light"
     },
     "output_type": "display_data"
    }
   ],
   "source": [
    "forward_result=MS.forward_selection(X,Y)"
   ]
  },
  {
   "cell_type": "code",
   "execution_count": 25,
   "metadata": {},
   "outputs": [
    {
     "data": {
      "text/html": [
       "<div>\n",
       "<style scoped>\n",
       "    .dataframe tbody tr th:only-of-type {\n",
       "        vertical-align: middle;\n",
       "    }\n",
       "\n",
       "    .dataframe tbody tr th {\n",
       "        vertical-align: top;\n",
       "    }\n",
       "\n",
       "    .dataframe thead th {\n",
       "        text-align: right;\n",
       "    }\n",
       "</style>\n",
       "<table border=\"1\" class=\"dataframe\">\n",
       "  <thead>\n",
       "    <tr style=\"text-align: right;\">\n",
       "      <th></th>\n",
       "      <th>Adj_R2</th>\n",
       "      <th>AIC</th>\n",
       "      <th>BIC</th>\n",
       "    </tr>\n",
       "  </thead>\n",
       "  <tbody>\n",
       "    <tr>\n",
       "      <td>0</td>\n",
       "      <td>alcohol</td>\n",
       "      <td>alcohol</td>\n",
       "      <td>alcohol</td>\n",
       "    </tr>\n",
       "    <tr>\n",
       "      <td>1</td>\n",
       "      <td>volatile_acidity</td>\n",
       "      <td>volatile_acidity</td>\n",
       "      <td>volatile_acidity</td>\n",
       "    </tr>\n",
       "    <tr>\n",
       "      <td>2</td>\n",
       "      <td>sulphates</td>\n",
       "      <td>sulphates</td>\n",
       "      <td>sulphates</td>\n",
       "    </tr>\n",
       "    <tr>\n",
       "      <td>3</td>\n",
       "      <td>total_sulfur_dioxide</td>\n",
       "      <td>total_sulfur_dioxide</td>\n",
       "      <td>total_sulfur_dioxide</td>\n",
       "    </tr>\n",
       "    <tr>\n",
       "      <td>4</td>\n",
       "      <td>pH</td>\n",
       "      <td>pH</td>\n",
       "      <td>pH</td>\n",
       "    </tr>\n",
       "    <tr>\n",
       "      <td>5</td>\n",
       "      <td>chlorides</td>\n",
       "      <td>chlorides</td>\n",
       "      <td>chlorides</td>\n",
       "    </tr>\n",
       "    <tr>\n",
       "      <td>6</td>\n",
       "      <td>citric_acid</td>\n",
       "      <td>citric_acid</td>\n",
       "      <td>NaN</td>\n",
       "    </tr>\n",
       "    <tr>\n",
       "      <td>7</td>\n",
       "      <td>free_sulfur_dioxide</td>\n",
       "      <td>free_sulfur_dioxide</td>\n",
       "      <td>NaN</td>\n",
       "    </tr>\n",
       "  </tbody>\n",
       "</table>\n",
       "</div>"
      ],
      "text/plain": [
       "                 Adj_R2                   AIC                   BIC\n",
       "0  alcohol               alcohol               alcohol             \n",
       "1  volatile_acidity      volatile_acidity      volatile_acidity    \n",
       "2  sulphates             sulphates             sulphates           \n",
       "3  total_sulfur_dioxide  total_sulfur_dioxide  total_sulfur_dioxide\n",
       "4  pH                    pH                    pH                  \n",
       "5  chlorides             chlorides             chlorides           \n",
       "6  citric_acid           citric_acid           NaN                 \n",
       "7  free_sulfur_dioxide   free_sulfur_dioxide   NaN                 "
      ]
     },
     "execution_count": 25,
     "metadata": {},
     "output_type": "execute_result"
    }
   ],
   "source": [
    "forward_result"
   ]
  },
  {
   "cell_type": "markdown",
   "metadata": {},
   "source": [
    "### Get the single best model selected by a given criteria, and fit the model"
   ]
  },
  {
   "cell_type": "code",
   "execution_count": 26,
   "metadata": {},
   "outputs": [
    {
     "data": {
      "text/plain": [
       "0    alcohol             \n",
       "1    volatile_acidity    \n",
       "2    sulphates           \n",
       "3    total_sulfur_dioxide\n",
       "4    pH                  \n",
       "5    chlorides           \n",
       "6    citric_acid         \n",
       "7    free_sulfur_dioxide \n",
       "Name: AIC, dtype: object"
      ]
     },
     "execution_count": 26,
     "metadata": {},
     "output_type": "execute_result"
    }
   ],
   "source": [
    "# Getting the variable list uisng AIC as the criterion\n",
    "X_feature_FD_AIC = forward_result['AIC']\n",
    "X_feature_FD_AIC"
   ]
  },
  {
   "cell_type": "code",
   "execution_count": 27,
   "metadata": {},
   "outputs": [
    {
     "name": "stdout",
     "output_type": "stream",
     "text": [
      "                            OLS Regression Results                            \n",
      "==============================================================================\n",
      "Dep. Variable:                quality   R-squared:                       0.344\n",
      "Model:                            OLS   Adj. R-squared:                  0.340\n",
      "Method:                 Least Squares   F-statistic:                     83.30\n",
      "Date:                Wed, 29 Jul 2020   Prob (F-statistic):          8.27e-111\n",
      "Time:                        10:44:45   Log-Likelihood:                -1273.8\n",
      "No. Observations:                1279   AIC:                             2566.\n",
      "Df Residuals:                    1270   BIC:                             2612.\n",
      "Df Model:                           8                                         \n",
      "Covariance Type:            nonrobust                                         \n",
      "========================================================================================\n",
      "                           coef    std err          t      P>|t|      [0.025      0.975]\n",
      "----------------------------------------------------------------------------------------\n",
      "const                    4.9407      0.518      9.530      0.000       3.924       5.958\n",
      "alcohol                  0.2969      0.019     15.597      0.000       0.260       0.334\n",
      "volatile_acidity        -1.1205      0.134     -8.349      0.000      -1.384      -0.857\n",
      "sulphates                0.8905      0.132      6.725      0.000       0.631       1.150\n",
      "total_sulfur_dioxide    -0.0030      0.001     -3.748      0.000      -0.005      -0.001\n",
      "pH                      -0.6423      0.150     -4.275      0.000      -0.937      -0.348\n",
      "chlorides               -1.5067      0.473     -3.186      0.001      -2.435      -0.579\n",
      "citric_acid             -0.2409      0.138     -1.752      0.080      -0.511       0.029\n",
      "free_sulfur_dioxide      0.0035      0.002      1.438      0.151      -0.001       0.008\n",
      "==============================================================================\n",
      "Omnibus:                       20.768   Durbin-Watson:                   2.072\n",
      "Prob(Omnibus):                  0.000   Jarque-Bera (JB):               32.556\n",
      "Skew:                          -0.131   Prob(JB):                     8.52e-08\n",
      "Kurtosis:                       3.736   Cond. No.                     1.82e+03\n",
      "==============================================================================\n",
      "\n",
      "Warnings:\n",
      "[1] Standard Errors assume that the covariance matrix of the errors is correctly specified.\n",
      "[2] The condition number is large, 1.82e+03. This might indicate that there are\n",
      "strong multicollinearity or other numerical problems.\n"
     ]
    }
   ],
   "source": [
    "# Fitting the single best model using AIC\n",
    "fit_FD_AIC = sm.OLS(train_set['quality'], sm.add_constant(train_set[X_feature_FD_AIC])).fit()\n",
    "print(fit_FD_AIC.summary())"
   ]
  },
  {
   "cell_type": "markdown",
   "metadata": {},
   "source": [
    "# Predictive measure by MSE\n",
    "* Based on the testing set, the MSE of all the methods\n",
    "* We may use the 'mean_square_error()' function to calculate the MSE using the package from 'sklearn'"
   ]
  },
  {
   "cell_type": "code",
   "execution_count": 28,
   "metadata": {},
   "outputs": [
    {
     "name": "stdout",
     "output_type": "stream",
     "text": [
      "MSE.best.subset.BIC:          0.37264\n",
      "MSE.best.subset.adjR2:        0.37350\n",
      "MSE.best.subset.validation:   0.38856\n",
      "MSE.best.subset.CV:           0.37685\n"
     ]
    }
   ],
   "source": [
    "from sklearn.metrics import mean_squared_error\n",
    "mse_best_BIC = mean_squared_error(test_set['quality'], fit_BIC.predict(sm.add_constant(test_set[X_feature_BIC])))\n",
    "mse_best_adjR2 = mean_squared_error(test_set['quality'], fit_Adj_R2.predict(sm.add_constant(test_set[X_feature_Adj_R2])))\n",
    "mse_best_validation = mean_squared_error(test_set['quality'], fit_validation.predict(sm.add_constant(test_set[X_feature_validation])))\n",
    "mse_best_CV = mean_squared_error(test_set['quality'], fit_CV.predict(sm.add_constant(test_set[X_feature_CV])))\n",
    "\n",
    "print ('MSE.best.subset.BIC:          %.5f'% mse_best_BIC)\n",
    "print ('MSE.best.subset.adjR2:        %.5f'% mse_best_adjR2)\n",
    "print ('MSE.best.subset.validation:   %.5f'% mse_best_validation)\n",
    "print ('MSE.best.subset.CV:           %.5f'% mse_best_CV)"
   ]
  },
  {
   "cell_type": "markdown",
   "metadata": {},
   "source": [
    "# Final model: Best subset by BIC"
   ]
  },
  {
   "cell_type": "code",
   "execution_count": 29,
   "metadata": {},
   "outputs": [
    {
     "name": "stdout",
     "output_type": "stream",
     "text": [
      "                            OLS Regression Results                            \n",
      "==============================================================================\n",
      "Dep. Variable:                quality   R-squared:                       0.357\n",
      "Model:                            OLS   Adj. R-squared:                  0.355\n",
      "Method:                 Least Squares   F-statistic:                     147.4\n",
      "Date:                Wed, 29 Jul 2020   Prob (F-statistic):          7.12e-149\n",
      "Time:                        10:44:45   Log-Likelihood:                -1573.4\n",
      "No. Observations:                1599   AIC:                             3161.\n",
      "Df Residuals:                    1592   BIC:                             3198.\n",
      "Df Model:                           6                                         \n",
      "Covariance Type:            nonrobust                                         \n",
      "========================================================================================\n",
      "                           coef    std err          t      P>|t|      [0.025      0.975]\n",
      "----------------------------------------------------------------------------------------\n",
      "const                    4.2957      0.400     10.751      0.000       3.512       5.079\n",
      "volatile_acidity        -1.0382      0.100    -10.338      0.000      -1.235      -0.841\n",
      "chlorides               -2.0023      0.398     -5.030      0.000      -2.783      -1.221\n",
      "total_sulfur_dioxide    -0.0024      0.001     -4.684      0.000      -0.003      -0.001\n",
      "pH                      -0.4352      0.116     -3.750      0.000      -0.663      -0.208\n",
      "sulphates                0.8887      0.110      8.076      0.000       0.673       1.105\n",
      "alcohol                  0.2907      0.017     17.291      0.000       0.258       0.324\n",
      "==============================================================================\n",
      "Omnibus:                       24.314   Durbin-Watson:                   1.749\n",
      "Prob(Omnibus):                  0.000   Jarque-Bera (JB):               34.645\n",
      "Skew:                          -0.165   Prob(JB):                     3.00e-08\n",
      "Kurtosis:                       3.642   Cond. No.                     1.62e+03\n",
      "==============================================================================\n",
      "\n",
      "Warnings:\n",
      "[1] Standard Errors assume that the covariance matrix of the errors is correctly specified.\n",
      "[2] The condition number is large, 1.62e+03. This might indicate that there are\n",
      "strong multicollinearity or other numerical problems.\n"
     ]
    }
   ],
   "source": [
    "# use the full dataset to fit the final model\n",
    "Y = red_wine['quality']\n",
    "X = red_wine[X_feature_BIC]\n",
    "fit_final = sm.OLS(Y,sm.add_constant(X)).fit()\n",
    "print(fit_final.summary())"
   ]
  },
  {
   "cell_type": "markdown",
   "metadata": {},
   "source": [
    "## Final model - VIF\n",
    "* Multicollinearity causes unreliable coefficient estimates\n",
    "* One may use VIF to detect multicollinearity\n",
    "    * The larger the VIF, the stronger the collinearity\n",
    "* the function below is used to calculate the VIF (taken from topic 1)"
   ]
  },
  {
   "cell_type": "code",
   "execution_count": 30,
   "metadata": {},
   "outputs": [],
   "source": [
    "# Taken from Topic 1\n",
    "from statsmodels.stats.outliers_influence import variance_inflation_factor\n",
    "\n",
    "def getvif(X):\n",
    "    X = sm.add_constant(X)\n",
    "    vif = pd.DataFrame()\n",
    "    vif[\"VIF\"] = [variance_inflation_factor(X.values, i) for i in range(X.shape[1])]\n",
    "    vif[\"Predictors\"] = X.columns\n",
    "    return(vif.drop(index = 0).round(2)) "
   ]
  },
  {
   "cell_type": "code",
   "execution_count": 31,
   "metadata": {},
   "outputs": [
    {
     "data": {
      "text/html": [
       "<div>\n",
       "<style scoped>\n",
       "    .dataframe tbody tr th:only-of-type {\n",
       "        vertical-align: middle;\n",
       "    }\n",
       "\n",
       "    .dataframe tbody tr th {\n",
       "        vertical-align: top;\n",
       "    }\n",
       "\n",
       "    .dataframe thead th {\n",
       "        text-align: right;\n",
       "    }\n",
       "</style>\n",
       "<table border=\"1\" class=\"dataframe\">\n",
       "  <thead>\n",
       "    <tr style=\"text-align: right;\">\n",
       "      <th></th>\n",
       "      <th>VIF</th>\n",
       "      <th>Predictors</th>\n",
       "    </tr>\n",
       "  </thead>\n",
       "  <tbody>\n",
       "    <tr>\n",
       "      <td>1</td>\n",
       "      <td>1.23</td>\n",
       "      <td>volatile_acidity</td>\n",
       "    </tr>\n",
       "    <tr>\n",
       "      <td>2</td>\n",
       "      <td>1.33</td>\n",
       "      <td>chlorides</td>\n",
       "    </tr>\n",
       "    <tr>\n",
       "      <td>3</td>\n",
       "      <td>1.05</td>\n",
       "      <td>total_sulfur_dioxide</td>\n",
       "    </tr>\n",
       "    <tr>\n",
       "      <td>4</td>\n",
       "      <td>1.22</td>\n",
       "      <td>pH</td>\n",
       "    </tr>\n",
       "    <tr>\n",
       "      <td>5</td>\n",
       "      <td>1.32</td>\n",
       "      <td>sulphates</td>\n",
       "    </tr>\n",
       "    <tr>\n",
       "      <td>6</td>\n",
       "      <td>1.22</td>\n",
       "      <td>alcohol</td>\n",
       "    </tr>\n",
       "  </tbody>\n",
       "</table>\n",
       "</div>"
      ],
      "text/plain": [
       "    VIF            Predictors\n",
       "1  1.23  volatile_acidity    \n",
       "2  1.33  chlorides           \n",
       "3  1.05  total_sulfur_dioxide\n",
       "4  1.22  pH                  \n",
       "5  1.32  sulphates           \n",
       "6  1.22  alcohol             "
      ]
     },
     "execution_count": 31,
     "metadata": {},
     "output_type": "execute_result"
    }
   ],
   "source": [
    "getvif(X)"
   ]
  },
  {
   "cell_type": "markdown",
   "metadata": {},
   "source": [
    "# Detecting the few excellent or poor wines (Final model)\n",
    "## Measure of regression outliers: standardized residuals\n",
    "#### We may draw a scatter plot of the standardized residuals to detect outliers.\n",
    "#### Using 'residual_plot_reference(model, cutoff)'\n",
    "- Input:\n",
    "    - model: the fitted regression model\n",
    "    - cutoff: draw two reference lines (y=cutoff, y=-cutoff) to detect outlier, e.g. cutoff=2\n",
    "- Output:\n",
    "    - A scatter plot of the standardized residuals with reference lines\n"
   ]
  },
  {
   "cell_type": "code",
   "execution_count": 32,
   "metadata": {},
   "outputs": [
    {
     "data": {
      "image/png": "[encoded data removed]",
      "text/plain": [
       "<Figure size 576x576 with 1 Axes>"
      ]
     },
     "metadata": {
      "needs_background": "light"
     },
     "output_type": "display_data"
    }
   ],
   "source": [
    "MS.residual_plot_reference(fit_final,2)\n"
   ]
  },
  {
   "cell_type": "code",
   "execution_count": 33,
   "metadata": {},
   "outputs": [
    {
     "name": "stdout",
     "output_type": "stream",
     "text": [
      "fixed_acidity           5.6000 \n",
      "volatile_acidity        0.8500 \n",
      "citric_acid             0.0500 \n",
      "residual_sugar          1.4000 \n",
      "chlorides               0.0450 \n",
      "free_sulfur_dioxide     12.0000\n",
      "total_sulfur_dioxide    88.0000\n",
      "density                 0.9924 \n",
      "pH                      3.5600 \n",
      "sulphates               0.8200 \n",
      "alcohol                 12.9000\n",
      "quality                 8.0000 \n",
      "Name: 390, dtype: float64\n",
      "Predicted quality: 6.043574379395032\n"
     ]
    }
   ],
   "source": [
    "#An excellent red wine, i.e. the true price is much higher than what we predict\n",
    "print(red_wine.iloc[390,:])\n",
    "print('Predicted quality:' ,fit_final.predict()[390])"
   ]
  },
  {
   "cell_type": "code",
   "execution_count": 34,
   "metadata": {},
   "outputs": [
    {
     "name": "stdout",
     "output_type": "stream",
     "text": [
      "fixed_acidity           10.40000\n",
      "volatile_acidity        0.44000 \n",
      "citric_acid             0.42000 \n",
      "residual_sugar          1.50000 \n",
      "chlorides               0.14500 \n",
      "free_sulfur_dioxide     34.00000\n",
      "total_sulfur_dioxide    48.00000\n",
      "density                 0.99832 \n",
      "pH                      3.38000 \n",
      "sulphates               0.86000 \n",
      "alcohol                 9.90000 \n",
      "quality                 3.00000 \n",
      "Name: 832, dtype: float64\n",
      "Predicted quality: 5.605749639152263\n"
     ]
    }
   ],
   "source": [
    "#A poor red wine, i.e. the true price is much lower than what we predict\n",
    "print(red_wine.iloc[832,:])\n",
    "print('Predicted quality:', fit_final.predict()[832])"
   ]
  },
  {
   "cell_type": "code",
   "execution_count": null,
   "metadata": {},
   "outputs": [],
   "source": [
    "# Exercise:\n",
    "# Create a indicator variable 'dummy' such that 'dummy' = 1 if pH >= 7  else 0.\n",
    "train_set_ex = train_set.copy()\n",
    "train_set_ex['dummy'] = \n",
    "\n"
   ]
  },
  {
   "cell_type": "code",
   "execution_count": null,
   "metadata": {},
   "outputs": [],
   "source": [
    "# Exercise:\n",
    "# Apply log-transform on 'total_sulfur_dioxide'\n",
    "train_set_ex['log(total_sulfur_dioxide)'] = \n",
    "\n"
   ]
  },
  {
   "cell_type": "code",
   "execution_count": null,
   "metadata": {},
   "outputs": [],
   "source": [
    "# Exercise:\n",
    "# Apply best subset selection on the below X and Y\n",
    "# Store the result in best_result_ex\n",
    "X_ex = train_set_ex.drop(columns = [\"quality\", \"pH\", \"total_sulfur_dioxide\"])\n",
    "Y_ex = train_set_ex['quality']\n",
    "\n",
    "best_result_ex = \n",
    "best_result_ex"
   ]
  },
  {
   "cell_type": "code",
   "execution_count": null,
   "metadata": {},
   "outputs": [],
   "source": [
    "# Exercise:\n",
    "# Find the subset that has the highest adjusted R^2\n",
    "# Fit a model with the subset\n",
    "X_ex_feature_adj = \n",
    "model_fit_adj = \n",
    "\n",
    "model_fit_adj.summary()"
   ]
  },
  {
   "cell_type": "code",
   "execution_count": null,
   "metadata": {},
   "outputs": [],
   "source": [
    "# Exercise:\n",
    "# Apply forward selection on the below X and Y\n",
    "# Store the result in forward_result_ex\n",
    "forward_result_ex = \n",
    "forward_result_ex"
   ]
  },
  {
   "cell_type": "code",
   "execution_count": null,
   "metadata": {},
   "outputs": [],
   "source": [
    "# Exercise:\n",
    "# Find the MSE of 'model_fit_adj' in the training data\n",
    "\n"
   ]
  }
 ],
 "metadata": {
  "kernelspec": {
   "display_name": "Python 3 (ipykernel)",
   "language": "python",
   "name": "python3"
  },
  "language_info": {
   "codemirror_mode": {
    "name": "ipython",
    "version": 3
   },
   "file_extension": ".py",
   "mimetype": "text/x-python",
   "name": "python",
   "nbconvert_exporter": "python",
   "pygments_lexer": "ipython3",
   "version": "3.9.7"
  }
 },
 "nbformat": 4,
 "nbformat_minor": 2
}
